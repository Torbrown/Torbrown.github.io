{
  "nbformat": 4,
  "nbformat_minor": 0,
  "metadata": {
    "colab": {
      "name": "Assignment15.ipynb",
      "provenance": [],
      "collapsed_sections": [],
      "include_colab_link": true
    },
    "kernelspec": {
      "name": "python3",
      "display_name": "Python 3"
    },
    "language_info": {
      "name": "python"
    }
  },
  "cells": [
    {
      "cell_type": "markdown",
      "metadata": {
        "id": "view-in-github",
        "colab_type": "text"
      },
      "source": [
        "<a href=\"https://colab.research.google.com/github/Torbrown/Torbrown.github.io/blob/main/Assignment15.ipynb\" target=\"_parent\"><img src=\"https://colab.research.google.com/assets/colab-badge.svg\" alt=\"Open In Colab\"/></a>"
      ]
    },
    {
      "cell_type": "markdown",
      "source": [
        "## Assignment 15 Template"
      ],
      "metadata": {
        "id": "2QESRbyK731U"
      }
    },
    {
      "cell_type": "markdown",
      "source": [
        "### Imports\n",
        "\n",
        "Don't touch these; we need them for the scraper to work correctly."
      ],
      "metadata": {
        "id": "fvws--Qn8ALT"
      }
    },
    {
      "cell_type": "code",
      "execution_count": 3,
      "metadata": {
        "id": "1w8eCSaj73Xh"
      },
      "outputs": [],
      "source": [
        "from urllib.request import urlopen\n",
        "from bs4 import BeautifulSoup"
      ]
    },
    {
      "cell_type": "markdown",
      "source": [
        "### Getting the URL\n",
        "\n",
        "In the next cell, place the code to open the URL, and assign it to a variable."
      ],
      "metadata": {
        "id": "ObNR62I78I3C"
      }
    },
    {
      "cell_type": "code",
      "source": [
        "# Code here. \n",
        "url = \"https://www.anthonypinter.com/assignment15-source.html\" \n",
        "html = urlopen(url)"
      ],
      "metadata": {
        "id": "GkVWBZ5s8RTT"
      },
      "execution_count": 4,
      "outputs": []
    },
    {
      "cell_type": "markdown",
      "source": [
        "### Making the Soup\n",
        "\n",
        "In the next cell, place the code to make the soup."
      ],
      "metadata": {
        "id": "jB_g4DTK8SgM"
      }
    },
    {
      "cell_type": "code",
      "source": [
        "soup = BeautifulSoup(html, 'lxml')"
      ],
      "metadata": {
        "id": "6PbrmzzS8W2D"
      },
      "execution_count": 5,
      "outputs": []
    },
    {
      "cell_type": "markdown",
      "source": [
        "### Country Name\n",
        "\n",
        "In the next cell, put the code to scrape the name of the country you selected (it cannot be Andorra or Zimbabwe). After you scrape the country's name, print it as a string."
      ],
      "metadata": {
        "id": "6PfPLJ3G8X2a"
      }
    },
    {
      "cell_type": "code",
      "source": [
        "name = soup.find(class_='col-md-4 country').find_next_sibling()\n",
        "nameUsed = name.find('h3').text.strip()\n",
        "print(\"The country is {}\".format(nameUsed))"
      ],
      "metadata": {
        "id": "zJzGfr6-8sVr",
        "colab": {
          "base_uri": "https://localhost:8080/"
        },
        "outputId": "96a7272e-9ff7-4dec-af6c-de6fc77c2457"
      },
      "execution_count": 59,
      "outputs": [
        {
          "output_type": "stream",
          "name": "stdout",
          "text": [
            "The country is United Arab Emirates\n"
          ]
        }
      ]
    },
    {
      "cell_type": "markdown",
      "source": [
        "### Country Capital\n",
        "\n",
        "In the next cell, put the code to scrape the name of the capital of the country you selected. After you scrape the country's capital's name, print it as a string."
      ],
      "metadata": {
        "id": "ISAcFbWa8t7R"
      }
    },
    {
      "cell_type": "code",
      "source": [
        "# Code here.\n",
        "name = soup.find(class_='col-md-4 country').find_next_sibling()\n",
        "capital = name.find('span', 'country-capital').text.strip()\n",
        "print(\"The capital is {}\".format(capital))"
      ],
      "metadata": {
        "id": "5XUFuLAp815H",
        "colab": {
          "base_uri": "https://localhost:8080/"
        },
        "outputId": "9f7b151c-ded3-4acc-9ce6-b07e0303bcbb"
      },
      "execution_count": 60,
      "outputs": [
        {
          "output_type": "stream",
          "name": "stdout",
          "text": [
            "The capital is Abu Dhabi\n"
          ]
        }
      ]
    },
    {
      "cell_type": "markdown",
      "source": [
        "### Country Population\n",
        "\n",
        "In the next cell, put the code to scrape the population of the country you selected. After you scrape the country's population, print it as a string."
      ],
      "metadata": {
        "id": "U0tmmp-y84Zr"
      }
    },
    {
      "cell_type": "code",
      "source": [
        "# Code here.\n",
        "name = soup.find(class_='col-md-4 country').find_next_sibling()\n",
        "pop = name.find('span', 'country-population').text.strip()\n",
        "print(\"The population is {}\".format(pop))"
      ],
      "metadata": {
        "id": "4BuQEtYS9FZY",
        "colab": {
          "base_uri": "https://localhost:8080/"
        },
        "outputId": "3335c5cc-fa64-48c2-c4a9-2341bda23d99"
      },
      "execution_count": 61,
      "outputs": [
        {
          "output_type": "stream",
          "name": "stdout",
          "text": [
            "The population is 4975593\n"
          ]
        }
      ]
    },
    {
      "cell_type": "markdown",
      "source": [
        "### Country Area\n",
        "\n",
        "In the next cell, put the code to scrape the geographic size of the country you selected. After you scrape the country's size, print it as a string."
      ],
      "metadata": {
        "id": "coOJuuuI9GvG"
      }
    },
    {
      "cell_type": "code",
      "source": [
        "# Code here.\n",
        "name = soup.find(class_='col-md-4 country').find_next_sibling()\n",
        "area = name.find('span', 'country-area').text.strip()\n",
        "print(\"The area is {} km2\".format(area))"
      ],
      "metadata": {
        "id": "-gOdrVoF9Lyy",
        "colab": {
          "base_uri": "https://localhost:8080/"
        },
        "outputId": "142625bc-5812-4207-e01b-90346b2248f3"
      },
      "execution_count": 63,
      "outputs": [
        {
          "output_type": "stream",
          "name": "stdout",
          "text": [
            "The area is 82880.0 km2\n"
          ]
        }
      ]
    }
  ]
}